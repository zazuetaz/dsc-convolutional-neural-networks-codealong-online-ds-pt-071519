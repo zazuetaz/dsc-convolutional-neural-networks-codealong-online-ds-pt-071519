{
 "cells": [
  {
   "cell_type": "markdown",
   "metadata": {},
   "source": [
    "# Convolutional Neural Networks - Codealong\n",
    "\n",
    "## Introduction\n",
    "\n",
    "In this codealong, we will reinvestigate our previous Santa image classification example. To do this, we will review loading a dataset from a nested directory structure and building a baseline model. From there, we'll build a CNN and demonstrate its improved performance on image recognition tasks. It is recommended you run the cells in order to further explore variables and investigate the code snippets themselves. However, please note that some cells (particularly training cells later on) may take several minutes to run. (On a Macbook pro the entire notebook took ~15 minutes to run.)\n",
    "\n",
    "## Objectives  \n",
    "\n",
    "You will be able to:\n",
    "\n",
    "- Load images from a hierarchical file structure using an image datagenerator \n",
    "- Explain why one might augment image data when training a neural network \n",
    "- Apply data augmentation to image files before training a neural network \n",
    "- Build a CNN using Keras "
   ]
  },
  {
   "cell_type": "markdown",
   "metadata": {},
   "source": [
    "## Properly store your images \n",
    "\n",
    "When you're analyzing your image data, file management is important. We will be using the santa images again, but this time, they are stored in two folders: `santa` and `not_santa`. We want to work with a `train`, `validation`, and `test` datasets now, as we know by now that this is the best way to obtain unbiased estimate of your model performance.  \n",
    "\n",
    "Let's import libraries `os` and `shutil`, as we'll need them to create the new folders and move the new files in there."
   ]
  },
  {
   "cell_type": "code",
   "execution_count": 1,
   "metadata": {},
   "outputs": [],
   "source": [
    "import os, shutil"
   ]
  },
  {
   "cell_type": "markdown",
   "metadata": {},
   "source": [
    "Below we create three objects representing the existing directories: `data/santa/` as `data_santa_dir` and `data/not_santa/` as `data_not_santa_dir`. We will create a new directory `split/` as `new_dir`, where we will split the dataset in three groups (or three subdirectories): `train`, `test`, and `validation`, each containing `santa` and `not_santa` subfolders. The final desired structure is represented below: \n",
    "\n",
    "![title](images/folder_structure.png)"
   ]
  },
  {
   "cell_type": "code",
   "execution_count": 2,
   "metadata": {},
   "outputs": [],
   "source": [
    "data_santa_dir = 'data/santa/'\n",
    "data_not_santa_dir = 'data/not_santa/'\n",
    "new_dir = 'split/'"
   ]
  },
  {
   "cell_type": "markdown",
   "metadata": {},
   "source": [
    "You can use `os.listdir()` to create an object that stores all the relevant image names. "
   ]
  },
  {
   "cell_type": "code",
   "execution_count": 3,
   "metadata": {},
   "outputs": [],
   "source": [
    "imgs_santa = [file for file in os.listdir(data_santa_dir) if file.endswith('.jpg')]"
   ]
  },
  {
   "cell_type": "code",
   "execution_count": 4,
   "metadata": {},
   "outputs": [
    {
     "data": {
      "text/plain": [
       "['00000000.jpg',\n",
       " '00000001.jpg',\n",
       " '00000003.jpg',\n",
       " '00000004.jpg',\n",
       " '00000005.jpg',\n",
       " '00000006.jpg',\n",
       " '00000007.jpg',\n",
       " '00000008.jpg',\n",
       " '00000009.jpg',\n",
       " '00000010.jpg']"
      ]
     },
     "execution_count": 4,
     "metadata": {},
     "output_type": "execute_result"
    }
   ],
   "source": [
    "imgs_santa[0:10]"
   ]
  },
  {
   "cell_type": "markdown",
   "metadata": {},
   "source": [
    "Let's see how many images there are in the `santa` directory."
   ]
  },
  {
   "cell_type": "code",
   "execution_count": 5,
   "metadata": {},
   "outputs": [
    {
     "name": "stdout",
     "output_type": "stream",
     "text": [
      "There are 461 santa images\n"
     ]
    }
   ],
   "source": [
    "print('There are', len(imgs_santa), 'santa images')"
   ]
  },
  {
   "cell_type": "markdown",
   "metadata": {},
   "source": [
    "Now, repeat this for the `not_santa` directory: "
   ]
  },
  {
   "cell_type": "code",
   "execution_count": 6,
   "metadata": {},
   "outputs": [],
   "source": [
    "imgs_not_santa = [file for file in os.listdir(data_not_santa_dir) if file.endswith('.jpg')]"
   ]
  },
  {
   "cell_type": "code",
   "execution_count": 7,
   "metadata": {},
   "outputs": [
    {
     "name": "stdout",
     "output_type": "stream",
     "text": [
      "There are 461 images without santa\n"
     ]
    }
   ],
   "source": [
    "print('There are', len(imgs_not_santa), 'images without santa')"
   ]
  },
  {
   "cell_type": "markdown",
   "metadata": {},
   "source": [
    "Create all the folders and subfolders in order to get the structure represented above. You can use `os.path.join()` to create strings that will be used later on to generate new directories."
   ]
  },
  {
   "cell_type": "code",
   "execution_count": 8,
   "metadata": {},
   "outputs": [
    {
     "ename": "FileExistsError",
     "evalue": "[WinError 183] Cannot create a file when that file already exists: 'split/'",
     "output_type": "error",
     "traceback": [
      "\u001b[1;31m---------------------------------------------------------------------------\u001b[0m",
      "\u001b[1;31mFileExistsError\u001b[0m                           Traceback (most recent call last)",
      "\u001b[1;32m<ipython-input-8-0d1f8d3cb245>\u001b[0m in \u001b[0;36m<module>\u001b[1;34m()\u001b[0m\n\u001b[1;32m----> 1\u001b[1;33m \u001b[0mos\u001b[0m\u001b[1;33m.\u001b[0m\u001b[0mmkdir\u001b[0m\u001b[1;33m(\u001b[0m\u001b[0mnew_dir\u001b[0m\u001b[1;33m)\u001b[0m\u001b[1;33m\u001b[0m\u001b[0m\n\u001b[0m",
      "\u001b[1;31mFileExistsError\u001b[0m: [WinError 183] Cannot create a file when that file already exists: 'split/'"
     ]
    }
   ],
   "source": [
    "os.mkdir(new_dir)"
   ]
  },
  {
   "cell_type": "code",
   "execution_count": 9,
   "metadata": {},
   "outputs": [],
   "source": [
    "train_folder = os.path.join(new_dir, 'train')\n",
    "train_santa = os.path.join(train_folder, 'santa')\n",
    "train_not_santa = os.path.join(train_folder, 'not_santa')\n",
    "\n",
    "test_folder = os.path.join(new_dir, 'test')\n",
    "test_santa = os.path.join(test_folder, 'santa')\n",
    "test_not_santa = os.path.join(test_folder, 'not_santa')\n",
    "\n",
    "val_folder = os.path.join(new_dir, 'validation')\n",
    "val_santa = os.path.join(val_folder, 'santa')\n",
    "val_not_santa = os.path.join(val_folder, 'not_santa')"
   ]
  },
  {
   "cell_type": "code",
   "execution_count": 10,
   "metadata": {},
   "outputs": [
    {
     "data": {
      "text/plain": [
       "'split/train\\\\santa'"
      ]
     },
     "execution_count": 10,
     "metadata": {},
     "output_type": "execute_result"
    }
   ],
   "source": [
    "train_santa"
   ]
  },
  {
   "cell_type": "markdown",
   "metadata": {},
   "source": [
    "Now use all the path strings you created to make new directories. You can use `os.mkdir()` to do this. Go have a look at your directory and see if this worked!"
   ]
  },
  {
   "cell_type": "code",
   "execution_count": 11,
   "metadata": {},
   "outputs": [
    {
     "ename": "FileExistsError",
     "evalue": "[WinError 183] Cannot create a file when that file already exists: 'split/test'",
     "output_type": "error",
     "traceback": [
      "\u001b[1;31m---------------------------------------------------------------------------\u001b[0m",
      "\u001b[1;31mFileExistsError\u001b[0m                           Traceback (most recent call last)",
      "\u001b[1;32m<ipython-input-11-9ef278089501>\u001b[0m in \u001b[0;36m<module>\u001b[1;34m()\u001b[0m\n\u001b[1;32m----> 1\u001b[1;33m \u001b[0mos\u001b[0m\u001b[1;33m.\u001b[0m\u001b[0mmkdir\u001b[0m\u001b[1;33m(\u001b[0m\u001b[0mtest_folder\u001b[0m\u001b[1;33m)\u001b[0m\u001b[1;33m\u001b[0m\u001b[0m\n\u001b[0m\u001b[0;32m      2\u001b[0m \u001b[0mos\u001b[0m\u001b[1;33m.\u001b[0m\u001b[0mmkdir\u001b[0m\u001b[1;33m(\u001b[0m\u001b[0mtest_santa\u001b[0m\u001b[1;33m)\u001b[0m\u001b[1;33m\u001b[0m\u001b[0m\n\u001b[0;32m      3\u001b[0m \u001b[0mos\u001b[0m\u001b[1;33m.\u001b[0m\u001b[0mmkdir\u001b[0m\u001b[1;33m(\u001b[0m\u001b[0mtest_not_santa\u001b[0m\u001b[1;33m)\u001b[0m\u001b[1;33m\u001b[0m\u001b[0m\n\u001b[0;32m      4\u001b[0m \u001b[1;33m\u001b[0m\u001b[0m\n\u001b[0;32m      5\u001b[0m \u001b[0mos\u001b[0m\u001b[1;33m.\u001b[0m\u001b[0mmkdir\u001b[0m\u001b[1;33m(\u001b[0m\u001b[0mtrain_folder\u001b[0m\u001b[1;33m)\u001b[0m\u001b[1;33m\u001b[0m\u001b[0m\n",
      "\u001b[1;31mFileExistsError\u001b[0m: [WinError 183] Cannot create a file when that file already exists: 'split/test'"
     ]
    }
   ],
   "source": [
    "os.mkdir(test_folder)\n",
    "os.mkdir(test_santa)\n",
    "os.mkdir(test_not_santa)\n",
    "\n",
    "os.mkdir(train_folder)\n",
    "os.mkdir(train_santa)\n",
    "os.mkdir(train_not_santa)\n",
    "\n",
    "os.mkdir(val_folder)\n",
    "os.mkdir(val_santa)\n",
    "os.mkdir(val_not_santa)"
   ]
  },
  {
   "cell_type": "markdown",
   "metadata": {},
   "source": [
    "Copy the Santa images in the three santa subfolders. Let's put the first 271 images in the training set, the next 100 images in the validation set and the final 90 images in the test set."
   ]
  },
  {
   "cell_type": "code",
   "execution_count": 12,
   "metadata": {},
   "outputs": [],
   "source": [
    "# train santa\n",
    "imgs = imgs_santa[:271]\n",
    "for img in imgs:\n",
    "    origin = os.path.join(data_santa_dir, img)\n",
    "    destination = os.path.join(train_santa, img)\n",
    "    shutil.copyfile(origin, destination)"
   ]
  },
  {
   "cell_type": "code",
   "execution_count": 13,
   "metadata": {},
   "outputs": [],
   "source": [
    "# validation santa\n",
    "imgs = imgs_santa[271:371]\n",
    "for img in imgs:\n",
    "    origin = os.path.join(data_santa_dir, img)\n",
    "    destination = os.path.join(val_santa, img)\n",
    "    shutil.copyfile(origin, destination)"
   ]
  },
  {
   "cell_type": "code",
   "execution_count": 14,
   "metadata": {},
   "outputs": [],
   "source": [
    "# test santa\n",
    "imgs = imgs_santa[371:]\n",
    "for img in imgs:\n",
    "    origin = os.path.join(data_santa_dir, img)\n",
    "    destination = os.path.join(test_santa, img)\n",
    "    shutil.copyfile(origin, destination)"
   ]
  },
  {
   "cell_type": "markdown",
   "metadata": {},
   "source": [
    "Now, repeat all this for the `not_santa` images!"
   ]
  },
  {
   "cell_type": "code",
   "execution_count": 15,
   "metadata": {},
   "outputs": [],
   "source": [
    "# train not_santa\n",
    "imgs = imgs_not_santa[:271]\n",
    "for img in imgs:\n",
    "    origin = os.path.join(data_not_santa_dir, img)\n",
    "    destination = os.path.join(train_not_santa, img)\n",
    "    shutil.copyfile(origin, destination)\n",
    "# validation not_santa\n",
    "imgs = imgs_not_santa[271:371]\n",
    "for img in imgs:\n",
    "    origin = os.path.join(data_not_santa_dir, img)\n",
    "    destination = os.path.join(val_not_santa, img)\n",
    "    shutil.copyfile(origin, destination)\n",
    "# test not_santa\n",
    "imgs = imgs_not_santa[371:]\n",
    "for img in imgs:\n",
    "    origin = os.path.join(data_not_santa_dir, img)\n",
    "    destination = os.path.join(test_not_santa, img)\n",
    "    shutil.copyfile(origin, destination)"
   ]
  },
  {
   "cell_type": "markdown",
   "metadata": {},
   "source": [
    "Let's print out how many images we have in each directory so we know for sure our numbers are right!"
   ]
  },
  {
   "cell_type": "code",
   "execution_count": 16,
   "metadata": {},
   "outputs": [
    {
     "name": "stdout",
     "output_type": "stream",
     "text": [
      "There are 381 santa images in the training set\n"
     ]
    }
   ],
   "source": [
    "print('There are', len(os.listdir(train_santa)), 'santa images in the training set')"
   ]
  },
  {
   "cell_type": "code",
   "execution_count": 17,
   "metadata": {},
   "outputs": [
    {
     "name": "stdout",
     "output_type": "stream",
     "text": [
      "There are 182 santa images in the validation set\n"
     ]
    }
   ],
   "source": [
    "print('There are', len(os.listdir(val_santa)), 'santa images in the validation set')"
   ]
  },
  {
   "cell_type": "code",
   "execution_count": 18,
   "metadata": {},
   "outputs": [
    {
     "name": "stdout",
     "output_type": "stream",
     "text": [
      "There are 167 santa images in the test set\n"
     ]
    }
   ],
   "source": [
    "print('There are', len(os.listdir(test_santa)), 'santa images in the test set')"
   ]
  },
  {
   "cell_type": "code",
   "execution_count": 19,
   "metadata": {},
   "outputs": [
    {
     "name": "stdout",
     "output_type": "stream",
     "text": [
      "There are 383 images without santa in the train set\n"
     ]
    }
   ],
   "source": [
    "print('There are', len(os.listdir(train_not_santa)), 'images without santa in the train set')"
   ]
  },
  {
   "cell_type": "code",
   "execution_count": 20,
   "metadata": {},
   "outputs": [
    {
     "name": "stdout",
     "output_type": "stream",
     "text": [
      "There are 178 images without santa in the validation set\n"
     ]
    }
   ],
   "source": [
    "print('There are', len(os.listdir(val_not_santa)), 'images without santa in the validation set')"
   ]
  },
  {
   "cell_type": "code",
   "execution_count": 21,
   "metadata": {},
   "outputs": [
    {
     "name": "stdout",
     "output_type": "stream",
     "text": [
      "There are 157 images without santa in the test set\n"
     ]
    }
   ],
   "source": [
    "print('There are', len(os.listdir(test_not_santa)), 'images without santa in the test set')"
   ]
  },
  {
   "cell_type": "markdown",
   "metadata": {},
   "source": [
    "## Use a densely connected network as a baseline"
   ]
  },
  {
   "cell_type": "markdown",
   "metadata": {},
   "source": [
    "Now that we've a handle on our data, we can easily use Keras' module with image-processing tools. Let's import the necessary libraries below. "
   ]
  },
  {
   "cell_type": "code",
   "execution_count": 22,
   "metadata": {},
   "outputs": [
    {
     "name": "stderr",
     "output_type": "stream",
     "text": [
      "Using TensorFlow backend.\n"
     ]
    }
   ],
   "source": [
    "import time\n",
    "import matplotlib.pyplot as plt\n",
    "import scipy\n",
    "import numpy as np\n",
    "from PIL import Image\n",
    "from scipy import ndimage\n",
    "from keras.preprocessing.image import ImageDataGenerator, array_to_img, img_to_array, load_img\n",
    "\n",
    "np.random.seed(123)"
   ]
  },
  {
   "cell_type": "code",
   "execution_count": 23,
   "metadata": {},
   "outputs": [
    {
     "name": "stdout",
     "output_type": "stream",
     "text": [
      "Found 324 images belonging to 2 classes.\n",
      "Found 360 images belonging to 2 classes.\n",
      "Found 764 images belonging to 2 classes.\n"
     ]
    }
   ],
   "source": [
    "# get all the data in the directory split/test (180 images), and reshape them\n",
    "test_generator = ImageDataGenerator(rescale=1./255).flow_from_directory(\n",
    "        test_folder, \n",
    "        target_size=(64, 64), batch_size = 180) \n",
    "\n",
    "# get all the data in the directory split/validation (200 images), and reshape them\n",
    "val_generator = ImageDataGenerator(rescale=1./255).flow_from_directory(\n",
    "        val_folder, \n",
    "        target_size=(64, 64), batch_size = 200)\n",
    "\n",
    "# get all the data in the directory split/train (542 images), and reshape them\n",
    "train_generator = ImageDataGenerator(rescale=1./255).flow_from_directory(\n",
    "        train_folder, \n",
    "        target_size=(64, 64), batch_size=542)"
   ]
  },
  {
   "cell_type": "code",
   "execution_count": 24,
   "metadata": {},
   "outputs": [],
   "source": [
    "# create the data sets\n",
    "train_images, train_labels = next(train_generator)\n",
    "test_images, test_labels = next(test_generator)\n",
    "val_images, val_labels = next(val_generator)"
   ]
  },
  {
   "cell_type": "code",
   "execution_count": 25,
   "metadata": {},
   "outputs": [
    {
     "name": "stdout",
     "output_type": "stream",
     "text": [
      "Number of training samples: 542\n",
      "Number of testing samples: 180\n",
      "Number of validation samples: 200\n",
      "train_images shape: (542, 64, 64, 3)\n",
      "train_labels shape: (542, 2)\n",
      "test_images shape: (180, 64, 64, 3)\n",
      "test_labels shape: (180, 2)\n",
      "val_images shape: (200, 64, 64, 3)\n",
      "val_labels shape: (200, 2)\n"
     ]
    }
   ],
   "source": [
    "# Explore your dataset again\n",
    "m_train = train_images.shape[0]\n",
    "num_px = train_images.shape[1]\n",
    "m_test = test_images.shape[0]\n",
    "m_val = val_images.shape[0]\n",
    "\n",
    "print (\"Number of training samples: \" + str(m_train))\n",
    "print (\"Number of testing samples: \" + str(m_test))\n",
    "print (\"Number of validation samples: \" + str(m_val))\n",
    "print (\"train_images shape: \" + str(train_images.shape))\n",
    "print (\"train_labels shape: \" + str(train_labels.shape))\n",
    "print (\"test_images shape: \" + str(test_images.shape))\n",
    "print (\"test_labels shape: \" + str(test_labels.shape))\n",
    "print (\"val_images shape: \" + str(val_images.shape))\n",
    "print (\"val_labels shape: \" + str(val_labels.shape))"
   ]
  },
  {
   "cell_type": "code",
   "execution_count": 26,
   "metadata": {},
   "outputs": [
    {
     "name": "stdout",
     "output_type": "stream",
     "text": [
      "(542, 12288)\n",
      "(180, 12288)\n",
      "(200, 12288)\n"
     ]
    }
   ],
   "source": [
    "train_img = train_images.reshape(train_images.shape[0], -1)\n",
    "test_img = test_images.reshape(test_images.shape[0], -1)\n",
    "val_img = val_images.reshape(val_images.shape[0], -1)\n",
    "\n",
    "print(train_img.shape)\n",
    "print(test_img.shape)\n",
    "print(val_img.shape)"
   ]
  },
  {
   "cell_type": "code",
   "execution_count": 27,
   "metadata": {},
   "outputs": [],
   "source": [
    "train_y = np.reshape(train_labels[:,0], (542,1))\n",
    "test_y = np.reshape(test_labels[:,0], (180,1))\n",
    "val_y = np.reshape(val_labels[:,0], (200,1))"
   ]
  },
  {
   "cell_type": "code",
   "execution_count": 28,
   "metadata": {},
   "outputs": [],
   "source": [
    "# Build a baseline fully connected model\n",
    "from keras import models\n",
    "from keras import layers\n",
    "np.random.seed(123)\n",
    "model = models.Sequential()\n",
    "model.add(layers.Dense(20, activation='relu', input_shape=(12288,))) # 2 hidden layers\n",
    "model.add(layers.Dense(7, activation='relu'))\n",
    "model.add(layers.Dense(5, activation='relu'))\n",
    "model.add(layers.Dense(1, activation='sigmoid'))"
   ]
  },
  {
   "cell_type": "code",
   "execution_count": 29,
   "metadata": {
    "scrolled": true
   },
   "outputs": [
    {
     "name": "stdout",
     "output_type": "stream",
     "text": [
      "Train on 542 samples, validate on 200 samples\n",
      "Epoch 1/50\n",
      "542/542 [==============================] - 1s 926us/step - loss: 0.7082 - acc: 0.4945 - val_loss: 0.6663 - val_acc: 0.4900\n",
      "Epoch 2/50\n",
      "542/542 [==============================] - 0s 247us/step - loss: 0.6748 - acc: 0.5129 - val_loss: 0.6668 - val_acc: 0.6550\n",
      "Epoch 3/50\n",
      "542/542 [==============================] - 0s 245us/step - loss: 0.6607 - acc: 0.5609 - val_loss: 0.6356 - val_acc: 0.5400\n",
      "Epoch 4/50\n",
      "542/542 [==============================] - 0s 242us/step - loss: 0.6442 - acc: 0.6255 - val_loss: 0.6167 - val_acc: 0.6250\n",
      "Epoch 5/50\n",
      "542/542 [==============================] - 0s 232us/step - loss: 0.6369 - acc: 0.6365 - val_loss: 0.6042 - val_acc: 0.7450\n",
      "Epoch 6/50\n",
      "542/542 [==============================] - 0s 244us/step - loss: 0.6173 - acc: 0.6605 - val_loss: 0.5859 - val_acc: 0.6050\n",
      "Epoch 7/50\n",
      "542/542 [==============================] - 0s 256us/step - loss: 0.5956 - acc: 0.6661 - val_loss: 0.5891 - val_acc: 0.5250\n",
      "Epoch 8/50\n",
      "542/542 [==============================] - 0s 249us/step - loss: 0.5760 - acc: 0.6956 - val_loss: 0.6659 - val_acc: 0.6300\n",
      "Epoch 9/50\n",
      "542/542 [==============================] - 0s 253us/step - loss: 0.5966 - acc: 0.6642 - val_loss: 0.5316 - val_acc: 0.7300\n",
      "Epoch 10/50\n",
      "542/542 [==============================] - 0s 238us/step - loss: 0.5298 - acc: 0.7399 - val_loss: 0.5414 - val_acc: 0.6250\n",
      "Epoch 11/50\n",
      "542/542 [==============================] - 0s 236us/step - loss: 0.5300 - acc: 0.7159 - val_loss: 0.5387 - val_acc: 0.7500\n",
      "Epoch 12/50\n",
      "542/542 [==============================] - 0s 245us/step - loss: 0.5147 - acc: 0.7712 - val_loss: 0.4996 - val_acc: 0.7250\n",
      "Epoch 13/50\n",
      "542/542 [==============================] - 0s 236us/step - loss: 0.5347 - acc: 0.7620 - val_loss: 0.4861 - val_acc: 0.8150\n",
      "Epoch 14/50\n",
      "542/542 [==============================] - 0s 255us/step - loss: 0.4381 - acc: 0.8376 - val_loss: 0.4935 - val_acc: 0.7050\n",
      "Epoch 15/50\n",
      "542/542 [==============================] - 0s 244us/step - loss: 0.4788 - acc: 0.7657 - val_loss: 0.5211 - val_acc: 0.6650\n",
      "Epoch 16/50\n",
      "542/542 [==============================] - 0s 231us/step - loss: 0.4767 - acc: 0.7694 - val_loss: 0.4540 - val_acc: 0.7600\n",
      "Epoch 17/50\n",
      "542/542 [==============================] - 0s 238us/step - loss: 0.4776 - acc: 0.7786 - val_loss: 0.5058 - val_acc: 0.6850\n",
      "Epoch 18/50\n",
      "542/542 [==============================] - 0s 242us/step - loss: 0.4119 - acc: 0.8081 - val_loss: 0.5617 - val_acc: 0.6700\n",
      "Epoch 19/50\n",
      "542/542 [==============================] - 0s 232us/step - loss: 0.4089 - acc: 0.8192 - val_loss: 0.4415 - val_acc: 0.7700\n",
      "Epoch 20/50\n",
      "542/542 [==============================] - 0s 260us/step - loss: 0.4814 - acc: 0.8026 - val_loss: 0.5761 - val_acc: 0.6600\n",
      "Epoch 21/50\n",
      "542/542 [==============================] - 0s 244us/step - loss: 0.4109 - acc: 0.8210 - val_loss: 0.4106 - val_acc: 0.8600\n",
      "Epoch 22/50\n",
      "542/542 [==============================] - 0s 247us/step - loss: 0.4335 - acc: 0.7952 - val_loss: 0.5788 - val_acc: 0.7100\n",
      "Epoch 23/50\n",
      "542/542 [==============================] - 0s 238us/step - loss: 0.3560 - acc: 0.8339 - val_loss: 0.4248 - val_acc: 0.7850\n",
      "Epoch 24/50\n",
      "542/542 [==============================] - 0s 245us/step - loss: 0.4059 - acc: 0.8284 - val_loss: 0.4104 - val_acc: 0.8350\n",
      "Epoch 25/50\n",
      "542/542 [==============================] - 0s 236us/step - loss: 0.3677 - acc: 0.8469 - val_loss: 0.3631 - val_acc: 0.8550\n",
      "Epoch 26/50\n",
      "542/542 [==============================] - 0s 251us/step - loss: 0.3570 - acc: 0.8506 - val_loss: 0.5095 - val_acc: 0.7300\n",
      "Epoch 27/50\n",
      "542/542 [==============================] - 0s 238us/step - loss: 0.3138 - acc: 0.8782 - val_loss: 0.3649 - val_acc: 0.8400\n",
      "Epoch 28/50\n",
      "542/542 [==============================] - 0s 249us/step - loss: 0.3350 - acc: 0.8506 - val_loss: 0.5209 - val_acc: 0.7400\n",
      "Epoch 29/50\n",
      "542/542 [==============================] - 0s 236us/step - loss: 0.4130 - acc: 0.8044 - val_loss: 0.5767 - val_acc: 0.6900\n",
      "Epoch 30/50\n",
      "542/542 [==============================] - 0s 266us/step - loss: 0.2969 - acc: 0.8801 - val_loss: 0.3597 - val_acc: 0.8450\n",
      "Epoch 31/50\n",
      "542/542 [==============================] - 0s 251us/step - loss: 0.2535 - acc: 0.9077 - val_loss: 0.3708 - val_acc: 0.8400\n",
      "Epoch 32/50\n",
      "542/542 [==============================] - 0s 251us/step - loss: 0.2829 - acc: 0.8967 - val_loss: 0.4442 - val_acc: 0.7700\n",
      "Epoch 33/50\n",
      "542/542 [==============================] - 0s 244us/step - loss: 0.3416 - acc: 0.8801 - val_loss: 0.3371 - val_acc: 0.8450\n",
      "Epoch 34/50\n",
      "542/542 [==============================] - 0s 249us/step - loss: 0.2080 - acc: 0.9446 - val_loss: 0.3068 - val_acc: 0.8650\n",
      "Epoch 35/50\n",
      "542/542 [==============================] - 0s 238us/step - loss: 0.2836 - acc: 0.8764 - val_loss: 0.3102 - val_acc: 0.8650\n",
      "Epoch 36/50\n",
      "542/542 [==============================] - 0s 240us/step - loss: 0.3700 - acc: 0.8598 - val_loss: 0.3355 - val_acc: 0.8450\n",
      "Epoch 37/50\n",
      "542/542 [==============================] - 0s 242us/step - loss: 0.2778 - acc: 0.8856 - val_loss: 0.3861 - val_acc: 0.8150\n",
      "Epoch 38/50\n",
      "542/542 [==============================] - 0s 262us/step - loss: 0.2264 - acc: 0.9207 - val_loss: 0.2903 - val_acc: 0.8850\n",
      "Epoch 39/50\n",
      "542/542 [==============================] - 0s 256us/step - loss: 0.3065 - acc: 0.8690 - val_loss: 0.3049 - val_acc: 0.8800\n",
      "Epoch 40/50\n",
      "542/542 [==============================] - 0s 247us/step - loss: 0.2401 - acc: 0.9096 - val_loss: 0.3367 - val_acc: 0.8350\n",
      "Epoch 41/50\n",
      "542/542 [==============================] - 0s 236us/step - loss: 0.1861 - acc: 0.9410 - val_loss: 0.3115 - val_acc: 0.8600\n",
      "Epoch 42/50\n",
      "542/542 [==============================] - 0s 234us/step - loss: 0.2670 - acc: 0.9022 - val_loss: 0.3004 - val_acc: 0.8850\n",
      "Epoch 43/50\n",
      "542/542 [==============================] - 0s 295us/step - loss: 0.2495 - acc: 0.8948 - val_loss: 0.6132 - val_acc: 0.7400\n",
      "Epoch 44/50\n",
      "542/542 [==============================] - 0s 269us/step - loss: 0.2073 - acc: 0.9299 - val_loss: 0.4333 - val_acc: 0.8100\n",
      "Epoch 45/50\n",
      "542/542 [==============================] - 0s 280us/step - loss: 0.1534 - acc: 0.9446 - val_loss: 0.3434 - val_acc: 0.8550\n",
      "Epoch 46/50\n",
      "542/542 [==============================] - 0s 242us/step - loss: 0.3396 - acc: 0.8450 - val_loss: 0.3039 - val_acc: 0.8800\n",
      "Epoch 47/50\n",
      "542/542 [==============================] - 0s 240us/step - loss: 0.1695 - acc: 0.9465 - val_loss: 0.2690 - val_acc: 0.8800\n",
      "Epoch 48/50\n",
      "542/542 [==============================] - 0s 231us/step - loss: 0.1443 - acc: 0.9557 - val_loss: 0.2596 - val_acc: 0.8950\n",
      "Epoch 49/50\n",
      "542/542 [==============================] - 0s 253us/step - loss: 0.1977 - acc: 0.9225 - val_loss: 0.2795 - val_acc: 0.8750\n",
      "Epoch 50/50\n",
      "542/542 [==============================] - 0s 249us/step - loss: 0.2905 - acc: 0.8764 - val_loss: 0.3857 - val_acc: 0.8250\n"
     ]
    }
   ],
   "source": [
    "model.compile(optimizer='sgd',\n",
    "              loss='binary_crossentropy',\n",
    "              metrics=['accuracy'])\n",
    "\n",
    "histoire = model.fit(train_img,\n",
    "                    train_y,\n",
    "                    epochs=50,\n",
    "                    batch_size=32,\n",
    "                    validation_data=(val_img, val_y))"
   ]
  },
  {
   "cell_type": "code",
   "execution_count": 30,
   "metadata": {},
   "outputs": [
    {
     "name": "stdout",
     "output_type": "stream",
     "text": [
      "542/542 [==============================] - 0s 124us/step\n"
     ]
    }
   ],
   "source": [
    "results_train = model.evaluate(train_img, train_y)"
   ]
  },
  {
   "cell_type": "code",
   "execution_count": 31,
   "metadata": {},
   "outputs": [
    {
     "name": "stdout",
     "output_type": "stream",
     "text": [
      "180/180 [==============================] - 0s 111us/step\n"
     ]
    }
   ],
   "source": [
    "results_test = model.evaluate(test_img, test_y)"
   ]
  },
  {
   "cell_type": "code",
   "execution_count": 32,
   "metadata": {},
   "outputs": [
    {
     "data": {
      "text/plain": [
       "[0.27124832757504663, 0.93173431580357]"
      ]
     },
     "execution_count": 32,
     "metadata": {},
     "output_type": "execute_result"
    }
   ],
   "source": [
    "results_train"
   ]
  },
  {
   "cell_type": "code",
   "execution_count": 33,
   "metadata": {},
   "outputs": [
    {
     "data": {
      "text/plain": [
       "[0.38602532347043356, 0.8388888915379842]"
      ]
     },
     "execution_count": 33,
     "metadata": {},
     "output_type": "execute_result"
    }
   ],
   "source": [
    "results_test"
   ]
  },
  {
   "cell_type": "markdown",
   "metadata": {},
   "source": [
    "Remember that, in our previous lab on building deeper neural networks from scratch, we obtained a training accuracy of 95%, and a test set accuracy of 74.23%. \n",
    "\n",
    "This result is similar to what we got building our manual \"deeper\" dense model. The results are not entirely different. This is not a surprise!\n",
    "- Before, we only had a training and a validation set (which was at the same time the test set). Now we have split up the data 3-ways.\n",
    "- We didn't use minibatches before, yet we used mini-batches of 32 units here.\n",
    " \n",
    "## Build a CNN"
   ]
  },
  {
   "cell_type": "code",
   "execution_count": 34,
   "metadata": {},
   "outputs": [],
   "source": [
    "model = models.Sequential()\n",
    "model.add(layers.Conv2D(32, (3, 3), activation='relu',\n",
    "                        input_shape=(64 ,64,  3)))\n",
    "model.add(layers.MaxPooling2D((2, 2)))\n",
    "\n",
    "model.add(layers.Conv2D(32, (4, 4), activation='relu'))\n",
    "model.add(layers.MaxPooling2D((2, 2)))\n",
    "\n",
    "model.add(layers.Conv2D(64, (3, 3), activation='relu'))\n",
    "model.add(layers.MaxPooling2D((2, 2)))\n",
    "\n",
    "model.add(layers.Flatten())\n",
    "model.add(layers.Dense(64, activation='relu'))\n",
    "model.add(layers.Dense(1, activation='sigmoid'))\n",
    "\n",
    "model.compile(loss='binary_crossentropy',\n",
    "              optimizer=\"sgd\",\n",
    "              metrics=['acc'])"
   ]
  },
  {
   "cell_type": "code",
   "execution_count": 35,
   "metadata": {
    "scrolled": true
   },
   "outputs": [
    {
     "name": "stdout",
     "output_type": "stream",
     "text": [
      "Train on 542 samples, validate on 200 samples\n",
      "Epoch 1/30\n",
      "542/542 [==============================] - 3s 6ms/step - loss: 0.6866 - acc: 0.4797 - val_loss: 0.6711 - val_acc: 0.5150\n",
      "Epoch 2/30\n",
      "542/542 [==============================] - 3s 6ms/step - loss: 0.6765 - acc: 0.4852 - val_loss: 0.6649 - val_acc: 0.5150\n",
      "Epoch 3/30\n",
      "542/542 [==============================] - 3s 6ms/step - loss: 0.6694 - acc: 0.4889 - val_loss: 0.6531 - val_acc: 0.5200\n",
      "Epoch 4/30\n",
      "542/542 [==============================] - 3s 6ms/step - loss: 0.6599 - acc: 0.5277 - val_loss: 0.6401 - val_acc: 0.5200\n",
      "Epoch 5/30\n",
      "542/542 [==============================] - 3s 6ms/step - loss: 0.6499 - acc: 0.5332 - val_loss: 0.6350 - val_acc: 0.7400\n",
      "Epoch 6/30\n",
      "542/542 [==============================] - 3s 6ms/step - loss: 0.6372 - acc: 0.6439 - val_loss: 0.6162 - val_acc: 0.7650\n",
      "Epoch 7/30\n",
      "542/542 [==============================] - 3s 6ms/step - loss: 0.6202 - acc: 0.7030 - val_loss: 0.6142 - val_acc: 0.8800\n",
      "Epoch 8/30\n",
      "542/542 [==============================] - 3s 6ms/step - loss: 0.6062 - acc: 0.7472 - val_loss: 0.5664 - val_acc: 0.6750\n",
      "Epoch 9/30\n",
      "542/542 [==============================] - 3s 6ms/step - loss: 0.5846 - acc: 0.7638 - val_loss: 0.5337 - val_acc: 0.7500\n",
      "Epoch 10/30\n",
      "542/542 [==============================] - 3s 6ms/step - loss: 0.5494 - acc: 0.7804 - val_loss: 0.5024 - val_acc: 0.7300\n",
      "Epoch 11/30\n",
      "542/542 [==============================] - 3s 6ms/step - loss: 0.5320 - acc: 0.7694 - val_loss: 0.5367 - val_acc: 0.7950\n",
      "Epoch 12/30\n",
      "542/542 [==============================] - 3s 6ms/step - loss: 0.5171 - acc: 0.7749 - val_loss: 0.4196 - val_acc: 0.9150\n",
      "Epoch 13/30\n",
      "542/542 [==============================] - 3s 6ms/step - loss: 0.5254 - acc: 0.7583 - val_loss: 0.6274 - val_acc: 0.5900\n",
      "Epoch 14/30\n",
      "542/542 [==============================] - 3s 6ms/step - loss: 0.4478 - acc: 0.8192 - val_loss: 0.3661 - val_acc: 0.9300\n",
      "Epoch 15/30\n",
      "542/542 [==============================] - 3s 6ms/step - loss: 0.4625 - acc: 0.8137 - val_loss: 0.3665 - val_acc: 0.8600\n",
      "Epoch 16/30\n",
      "542/542 [==============================] - 3s 6ms/step - loss: 0.4608 - acc: 0.7841 - val_loss: 0.3582 - val_acc: 0.8450\n",
      "Epoch 17/30\n",
      "542/542 [==============================] - 3s 6ms/step - loss: 0.4450 - acc: 0.7878 - val_loss: 0.3883 - val_acc: 0.8550\n",
      "Epoch 18/30\n",
      "542/542 [==============================] - 3s 6ms/step - loss: 0.4020 - acc: 0.8376 - val_loss: 0.4533 - val_acc: 0.6950\n",
      "Epoch 19/30\n",
      "542/542 [==============================] - 3s 6ms/step - loss: 0.4039 - acc: 0.8303 - val_loss: 0.7538 - val_acc: 0.5650\n",
      "Epoch 20/30\n",
      "542/542 [==============================] - 3s 6ms/step - loss: 0.3807 - acc: 0.8284 - val_loss: 0.2563 - val_acc: 0.9400\n",
      "Epoch 21/30\n",
      "542/542 [==============================] - 3s 6ms/step - loss: 0.3514 - acc: 0.8598 - val_loss: 0.2666 - val_acc: 0.9300\n",
      "Epoch 22/30\n",
      "542/542 [==============================] - 3s 6ms/step - loss: 0.3467 - acc: 0.8672 - val_loss: 0.4820 - val_acc: 0.7150\n",
      "Epoch 23/30\n",
      "542/542 [==============================] - 3s 6ms/step - loss: 0.3693 - acc: 0.8413 - val_loss: 0.2318 - val_acc: 0.9450\n",
      "Epoch 24/30\n",
      "542/542 [==============================] - 3s 6ms/step - loss: 0.3409 - acc: 0.8524 - val_loss: 0.2090 - val_acc: 0.9550\n",
      "Epoch 25/30\n",
      "542/542 [==============================] - 3s 6ms/step - loss: 0.3044 - acc: 0.8782 - val_loss: 0.2215 - val_acc: 0.9400\n",
      "Epoch 26/30\n",
      "542/542 [==============================] - 3s 6ms/step - loss: 0.3571 - acc: 0.8579 - val_loss: 0.2197 - val_acc: 0.9650\n",
      "Epoch 27/30\n",
      "542/542 [==============================] - 3s 6ms/step - loss: 0.2797 - acc: 0.8967 - val_loss: 0.2034 - val_acc: 0.9500\n",
      "Epoch 28/30\n",
      "542/542 [==============================] - 3s 6ms/step - loss: 0.2956 - acc: 0.8948 - val_loss: 0.2473 - val_acc: 0.9150\n",
      "Epoch 29/30\n",
      "542/542 [==============================] - 4s 7ms/step - loss: 0.3234 - acc: 0.8653 - val_loss: 0.2386 - val_acc: 0.9200\n",
      "Epoch 30/30\n",
      "542/542 [==============================] - 4s 7ms/step - loss: 0.2713 - acc: 0.8838 - val_loss: 0.2058 - val_acc: 0.9500\n"
     ]
    }
   ],
   "source": [
    "history = model.fit(train_images,\n",
    "                    train_y,\n",
    "                    epochs=30,\n",
    "                    batch_size=32,\n",
    "                    validation_data=(val_images, val_y))"
   ]
  },
  {
   "cell_type": "code",
   "execution_count": 36,
   "metadata": {},
   "outputs": [
    {
     "name": "stdout",
     "output_type": "stream",
     "text": [
      "542/542 [==============================] - 1s 2ms/step\n"
     ]
    }
   ],
   "source": [
    "results_train = model.evaluate(train_images, train_y)"
   ]
  },
  {
   "cell_type": "code",
   "execution_count": 37,
   "metadata": {},
   "outputs": [
    {
     "name": "stdout",
     "output_type": "stream",
     "text": [
      "180/180 [==============================] - 0s 2ms/step\n"
     ]
    }
   ],
   "source": [
    "results_test = model.evaluate(test_images, test_y)"
   ]
  },
  {
   "cell_type": "code",
   "execution_count": 38,
   "metadata": {},
   "outputs": [
    {
     "data": {
      "text/plain": [
       "[0.28169379034165526, 0.9077490759511715]"
      ]
     },
     "execution_count": 38,
     "metadata": {},
     "output_type": "execute_result"
    }
   ],
   "source": [
    "results_train"
   ]
  },
  {
   "cell_type": "code",
   "execution_count": 39,
   "metadata": {},
   "outputs": [
    {
     "data": {
      "text/plain": [
       "[0.2924673000971476, 0.8944444444444445]"
      ]
     },
     "execution_count": 39,
     "metadata": {},
     "output_type": "execute_result"
    }
   ],
   "source": [
    "results_test"
   ]
  },
  {
   "cell_type": "markdown",
   "metadata": {},
   "source": [
    "## Data Augmentation"
   ]
  },
  {
   "cell_type": "markdown",
   "metadata": {},
   "source": [
    "`ImageDataGenerator()` becomes really useful when we *actually* want to generate more data. We'll show you how this works. "
   ]
  },
  {
   "cell_type": "code",
   "execution_count": 40,
   "metadata": {},
   "outputs": [],
   "source": [
    "train_datagen = ImageDataGenerator(rescale=1./255, \n",
    "                                   rotation_range=40, \n",
    "                                   width_shift_range=0.2, \n",
    "                                   height_shift_range=0.2, \n",
    "                                   shear_range=0.3, \n",
    "                                   zoom_range=0.1, \n",
    "                                   horizontal_flip=False)"
   ]
  },
  {
   "cell_type": "code",
   "execution_count": 41,
   "metadata": {},
   "outputs": [
    {
     "data": {
      "image/png": "[encoded data removed]",
      "text/plain": [
       "<Figure size 432x288 with 1 Axes>"
      ]
     },
     "metadata": {
      "needs_background": "light"
     },
     "output_type": "display_data"
    },
    {
     "data": {
      "image/png": "[encoded data removed]",
      "text/plain": [
       "<Figure size 432x288 with 1 Axes>"
      ]
     },
     "metadata": {
      "needs_background": "light"
     },
     "output_type": "display_data"
    },
    {
     "data": {
      "image/png": "[encoded data removed]",
      "text/plain": [
       "<Figure size 432x288 with 1 Axes>"
      ]
     },
     "metadata": {
      "needs_background": "light"
     },
     "output_type": "display_data"
    }
   ],
   "source": [
    "names = [os.path.join(train_santa, name) for name in os.listdir(train_santa)]\n",
    "img_path = names[91]\n",
    "img = load_img(img_path, target_size=(64, 64))\n",
    "\n",
    "reshape_img = img_to_array(img) \n",
    "reshape_img = reshape_img.reshape((1,) + reshape_img.shape) \n",
    "i=0\n",
    "for batch in train_datagen.flow(reshape_img, batch_size=1):\n",
    "    plt.figure(i)\n",
    "    imgplot = plt.imshow(array_to_img(batch[0]))\n",
    "    i += 1\n",
    "    if i % 3 == 0:\n",
    "        break\n",
    "plt.show()"
   ]
  },
  {
   "cell_type": "code",
   "execution_count": 42,
   "metadata": {},
   "outputs": [
    {
     "name": "stdout",
     "output_type": "stream",
     "text": [
      "Found 324 images belonging to 2 classes.\n",
      "Found 360 images belonging to 2 classes.\n",
      "Found 764 images belonging to 2 classes.\n"
     ]
    }
   ],
   "source": [
    "# get all the data in the directory split/test (180 images), and reshape them\n",
    "test_generator = ImageDataGenerator(rescale=1./255).flow_from_directory(\n",
    "        test_folder, \n",
    "        target_size=(64, 64), \n",
    "        batch_size = 180,\n",
    "        class_mode='binary') \n",
    "\n",
    "# get all the data in the directory split/validation (200 images), and reshape them\n",
    "val_generator = ImageDataGenerator(rescale=1./255).flow_from_directory(\n",
    "        val_folder, \n",
    "        target_size=(64, 64),\n",
    "        batch_size = 32,\n",
    "        class_mode='binary')\n",
    "\n",
    "# get all the data in the directory split/train (542 images), and reshape them\n",
    "train_generator = train_datagen.flow_from_directory(\n",
    "        train_folder, \n",
    "        target_size=(64, 64), \n",
    "        batch_size = 32, \n",
    "        class_mode='binary')"
   ]
  },
  {
   "cell_type": "code",
   "execution_count": 43,
   "metadata": {},
   "outputs": [],
   "source": [
    "model = models.Sequential()\n",
    "model.add(layers.Conv2D(32, (3, 3), activation='relu',\n",
    "                        input_shape=(64 ,64,  3)))\n",
    "model.add(layers.MaxPooling2D((2, 2)))\n",
    "\n",
    "model.add(layers.Conv2D(32, (4, 4), activation='relu'))\n",
    "model.add(layers.MaxPooling2D((2, 2)))\n",
    "\n",
    "model.add(layers.Conv2D(64, (3, 3), activation='relu'))\n",
    "model.add(layers.MaxPooling2D((2, 2)))\n",
    "\n",
    "model.add(layers.Flatten())\n",
    "model.add(layers.Dense(64, activation='relu'))\n",
    "model.add(layers.Dense(1, activation='sigmoid'))\n",
    "\n",
    "model.compile(loss='binary_crossentropy',\n",
    "              optimizer= 'sgd',\n",
    "              metrics=['acc'])"
   ]
  },
  {
   "cell_type": "code",
   "execution_count": 44,
   "metadata": {},
   "outputs": [
    {
     "name": "stdout",
     "output_type": "stream",
     "text": [
      "Epoch 1/30\n",
      "25/25 [==============================] - 17s 663ms/step - loss: 0.6859 - acc: 0.4981 - val_loss: 0.6758 - val_acc: 0.5056\n",
      "Epoch 2/30\n",
      "25/25 [==============================] - 15s 586ms/step - loss: 0.6774 - acc: 0.5062 - val_loss: 0.6667 - val_acc: 0.5056\n",
      "Epoch 3/30\n",
      "25/25 [==============================] - 15s 594ms/step - loss: 0.6739 - acc: 0.4894 - val_loss: 0.6598 - val_acc: 0.5056\n",
      "Epoch 4/30\n",
      "25/25 [==============================] - 17s 699ms/step - loss: 0.6660 - acc: 0.5082 - val_loss: 0.6506 - val_acc: 0.5139\n",
      "Epoch 5/30\n",
      "25/25 [==============================] - 17s 683ms/step - loss: 0.6570 - acc: 0.5114 - val_loss: 0.6389 - val_acc: 0.5306\n",
      "Epoch 6/30\n",
      "25/25 [==============================] - 16s 628ms/step - loss: 0.6431 - acc: 0.5497 - val_loss: 0.6235 - val_acc: 0.5278\n",
      "Epoch 7/30\n",
      "25/25 [==============================] - 15s 615ms/step - loss: 0.6301 - acc: 0.6079 - val_loss: 0.6085 - val_acc: 0.5278\n",
      "Epoch 8/30\n",
      "25/25 [==============================] - 18s 702ms/step - loss: 0.6115 - acc: 0.6707 - val_loss: 0.5768 - val_acc: 0.7611\n",
      "Epoch 9/30\n",
      "25/25 [==============================] - 17s 672ms/step - loss: 0.5888 - acc: 0.7675 - val_loss: 0.5414 - val_acc: 0.8000\n",
      "Epoch 10/30\n",
      "25/25 [==============================] - 17s 667ms/step - loss: 0.5551 - acc: 0.8132 - val_loss: 0.4940 - val_acc: 0.9056\n",
      "Epoch 11/30\n",
      "25/25 [==============================] - 15s 616ms/step - loss: 0.5218 - acc: 0.8104 - val_loss: 0.4874 - val_acc: 0.8611\n",
      "Epoch 12/30\n",
      "25/25 [==============================] - 21s 841ms/step - loss: 0.5185 - acc: 0.7680 - val_loss: 0.4029 - val_acc: 0.9083\n",
      "Epoch 13/30\n",
      "25/25 [==============================] - 22s 897ms/step - loss: 0.4529 - acc: 0.8163 - val_loss: 0.8933 - val_acc: 0.5278\n",
      "Epoch 14/30\n",
      "25/25 [==============================] - 21s 828ms/step - loss: 0.4395 - acc: 0.8268 - val_loss: 0.4768 - val_acc: 0.6917\n",
      "Epoch 15/30\n",
      "25/25 [==============================] - 22s 871ms/step - loss: 0.4080 - acc: 0.8309 - val_loss: 0.3420 - val_acc: 0.8889\n",
      "Epoch 16/30\n",
      "25/25 [==============================] - 18s 722ms/step - loss: 0.3840 - acc: 0.8466 - val_loss: 0.3004 - val_acc: 0.9167\n",
      "Epoch 17/30\n",
      "25/25 [==============================] - 21s 827ms/step - loss: 0.3837 - acc: 0.8365 - val_loss: 0.3921 - val_acc: 0.8250\n",
      "Epoch 18/30\n",
      "25/25 [==============================] - 18s 706ms/step - loss: 0.3401 - acc: 0.8657 - val_loss: 0.3765 - val_acc: 0.8333\n",
      "Epoch 19/30\n",
      "25/25 [==============================] - 21s 835ms/step - loss: 0.3276 - acc: 0.8620 - val_loss: 0.3662 - val_acc: 0.8194\n",
      "Epoch 20/30\n",
      "25/25 [==============================] - 17s 691ms/step - loss: 0.3640 - acc: 0.8480 - val_loss: 0.2815 - val_acc: 0.9139\n",
      "Epoch 21/30\n",
      "25/25 [==============================] - 20s 796ms/step - loss: 0.2815 - acc: 0.8980 - val_loss: 0.2956 - val_acc: 0.9083\n",
      "Epoch 22/30\n",
      "25/25 [==============================] - 18s 726ms/step - loss: 0.3098 - acc: 0.8638 - val_loss: 0.2144 - val_acc: 0.9278\n",
      "Epoch 23/30\n",
      "25/25 [==============================] - 17s 681ms/step - loss: 0.2815 - acc: 0.8900 - val_loss: 0.2152 - val_acc: 0.9361\n",
      "Epoch 24/30\n",
      "25/25 [==============================] - 19s 763ms/step - loss: 0.2875 - acc: 0.8950 - val_loss: 0.3942 - val_acc: 0.8278\n",
      "Epoch 25/30\n",
      "25/25 [==============================] - 17s 672ms/step - loss: 0.2431 - acc: 0.9245 - val_loss: 0.2079 - val_acc: 0.9333\n",
      "Epoch 26/30\n",
      "25/25 [==============================] - 21s 858ms/step - loss: 0.2469 - acc: 0.9086 - val_loss: 0.2130 - val_acc: 0.9306\n",
      "Epoch 27/30\n",
      "25/25 [==============================] - 21s 823ms/step - loss: 0.2314 - acc: 0.9107 - val_loss: 0.2719 - val_acc: 0.9083\n",
      "Epoch 28/30\n",
      "25/25 [==============================] - 20s 784ms/step - loss: 0.2368 - acc: 0.9139 - val_loss: 0.2999 - val_acc: 0.9028\n",
      "Epoch 29/30\n",
      "25/25 [==============================] - 18s 707ms/step - loss: 0.2428 - acc: 0.9062 - val_loss: 0.2481 - val_acc: 0.9222\n",
      "Epoch 30/30\n",
      "25/25 [==============================] - 18s 705ms/step - loss: 0.2823 - acc: 0.8957 - val_loss: 0.2019 - val_acc: 0.9333\n"
     ]
    }
   ],
   "source": [
    "history_2 = model.fit_generator(train_generator, \n",
    "                                steps_per_epoch=25, \n",
    "                                epochs=30, \n",
    "                                validation_data=val_generator, \n",
    "                                validation_steps=25)"
   ]
  },
  {
   "cell_type": "code",
   "execution_count": 45,
   "metadata": {},
   "outputs": [],
   "source": [
    "test_x, test_y = next(test_generator)"
   ]
  },
  {
   "cell_type": "code",
   "execution_count": 46,
   "metadata": {},
   "outputs": [
    {
     "name": "stdout",
     "output_type": "stream",
     "text": [
      "180/180 [==============================] - 0s 2ms/step\n"
     ]
    }
   ],
   "source": [
    "results_test = model.evaluate(test_x, test_y)"
   ]
  },
  {
   "cell_type": "code",
   "execution_count": 47,
   "metadata": {},
   "outputs": [
    {
     "data": {
      "text/plain": [
       "[0.23515970905621847, 0.916666669315762]"
      ]
     },
     "execution_count": 47,
     "metadata": {},
     "output_type": "execute_result"
    }
   ],
   "source": [
    "results_test"
   ]
  },
  {
   "cell_type": "markdown",
   "metadata": {},
   "source": [
    "## Summary  \n",
    "\n",
    "In this code along lab, we looked again at some of the preprocessing techniques needed in order to organize our data prior to building a model using Keras. Afterwards, we investigated new code in order to build a CNN for image recognition."
   ]
  }
 ],
 "metadata": {
  "kernelspec": {
   "display_name": "Python 3",
   "language": "python",
   "name": "python3"
  },
  "language_info": {
   "codemirror_mode": {
    "name": "ipython",
    "version": 3
   },
   "file_extension": ".py",
   "mimetype": "text/x-python",
   "name": "python",
   "nbconvert_exporter": "python",
   "pygments_lexer": "ipython3",
   "version": "3.6.6"
  },
  "toc": {
   "base_numbering": 1,
   "nav_menu": {},
   "number_sections": true,
   "sideBar": true,
   "skip_h1_title": false,
   "title_cell": "Table of Contents",
   "title_sidebar": "Contents",
   "toc_cell": false,
   "toc_position": {},
   "toc_section_display": true,
   "toc_window_display": false
  },
  "varInspector": {
   "cols": {
    "lenName": 16,
    "lenType": 16,
    "lenVar": 40
   },
   "kernels_config": {
    "python": {
     "delete_cmd_postfix": "",
     "delete_cmd_prefix": "del ",
     "library": "var_list.py",
     "varRefreshCmd": "print(var_dic_list())"
    },
    "r": {
     "delete_cmd_postfix": ") ",
     "delete_cmd_prefix": "rm(",
     "library": "var_list.r",
     "varRefreshCmd": "cat(var_dic_list()) "
    }
   },
   "types_to_exclude": [
    "module",
    "function",
    "builtin_function_or_method",
    "instance",
    "_Feature"
   ],
   "window_display": false
  }
 },
 "nbformat": 4,
 "nbformat_minor": 2
}
